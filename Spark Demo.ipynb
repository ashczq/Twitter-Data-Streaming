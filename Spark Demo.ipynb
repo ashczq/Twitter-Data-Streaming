{
 "cells": [
  {
   "cell_type": "code",
   "execution_count": 1,
   "metadata": {},
   "outputs": [],
   "source": [
    "import pyspark \n",
    "from pyspark import SparkConf\n",
    "from pyspark import SparkContext\n",
    "from pyspark.sql import SparkSession"
   ]
  },
  {
   "cell_type": "code",
   "execution_count": 2,
   "metadata": {},
   "outputs": [],
   "source": [
    "from pyspark.mllib.classification import NaiveBayes, NaiveBayesModel\n",
    "from pyspark.mllib.linalg import Vectors\n",
    "from pyspark.mllib.regression import LabeledPoint"
   ]
  },
  {
   "cell_type": "code",
   "execution_count": 3,
   "metadata": {},
   "outputs": [],
   "source": [
    "MAX_MEMORY = \"5g\"\n",
    "\n",
    "spark = SparkSession.builder \\\n",
    "                    .appName('multi_class_text_classifiter')\\\n",
    "                    .config(\"spark.executor.memory\", MAX_MEMORY) \\\n",
    "                    .config(\"spark.driver.memory\", MAX_MEMORY) \\\n",
    "                    .getOrCreate()"
   ]
  },
  {
   "cell_type": "code",
   "execution_count": 4,
   "metadata": {},
   "outputs": [],
   "source": [
    "df = spark.read.csv('./train.csv',inferSchema=True,header=True)"
   ]
  },
  {
   "cell_type": "code",
   "execution_count": 17,
   "metadata": {},
   "outputs": [
    {
     "name": "stdout",
     "output_type": "stream",
     "text": [
      "+--------------------+--------------------+------+\n",
      "|                 qid|       question_text|target|\n",
      "+--------------------+--------------------+------+\n",
      "|00002165364db923c7e6|How did Quebec na...|     0|\n",
      "|000032939017120e6e44|Do you have an ad...|     0|\n",
      "|0000412ca6e4628ce2cf|Why does velocity...|     0|\n",
      "|000042bf85aa498cd78e|How did Otto von ...|     0|\n",
      "|0000455dfa3e01eae3af|Can I convert mon...|     0|\n",
      "|00004f9a462a357c33be|Is Gaza slowly be...|     0|\n",
      "|00005059a06ee19e11ad|Why does Quora au...|     0|\n",
      "|0000559f875832745e2e|Is it crazy if I ...|     0|\n",
      "|00005bd3426b2d0c8305|Is there such a t...|     0|\n",
      "|00006e6928c5df60eacb|Is it just me or ...|     0|\n",
      "|000075f67dd595c3deb5|What can you say ...|     0|\n",
      "|000076f3b42776c692de|How were the Calg...|     0|\n",
      "|000089792b3fc8026741|What is the dumbe...|     0|\n",
      "|000092a90bcfbfe8cd88|Can we use our ex...|     0|\n",
      "|000095680e41a9a6f6e3|I am 30, living a...|     0|\n",
      "|0000a89942e3143e333a|What do you know ...|     0|\n",
      "|0000b8e1279eaa0a7062|How difficult is ...|     0|\n",
      "|0000bc0f62500f55959f|Have you licked t...|     0|\n",
      "|0000ce6c31f14d3e09ec|Do you think Amaz...|     0|\n",
      "|0000d329332845b8a7fa|How many baronies...|     0|\n",
      "+--------------------+--------------------+------+\n",
      "only showing top 20 rows\n",
      "\n"
     ]
    }
   ],
   "source": [
    "df.show()"
   ]
  },
  {
   "cell_type": "code",
   "execution_count": null,
   "metadata": {},
   "outputs": [],
   "source": [
    "df.printSchema()"
   ]
  },
  {
   "cell_type": "code",
   "execution_count": null,
   "metadata": {},
   "outputs": [],
   "source": [
    "df.columns"
   ]
  },
  {
   "cell_type": "code",
   "execution_count": null,
   "metadata": {},
   "outputs": [],
   "source": [
    "print((df.count(), len(df.columns)))"
   ]
  },
  {
   "cell_type": "code",
   "execution_count": null,
   "metadata": {},
   "outputs": [],
   "source": [
    "df.describe('target').show()"
   ]
  },
  {
   "cell_type": "code",
   "execution_count": null,
   "metadata": {},
   "outputs": [],
   "source": [
    "df.filter(df.target==1).show()"
   ]
  },
  {
   "cell_type": "code",
   "execution_count": null,
   "metadata": {},
   "outputs": [],
   "source": [
    "df.filter(df.target==1).count()"
   ]
  },
  {
   "cell_type": "code",
   "execution_count": null,
   "metadata": {},
   "outputs": [],
   "source": [
    "df.orderBy(df.target).show()"
   ]
  },
  {
   "cell_type": "code",
   "execution_count": 5,
   "metadata": {},
   "outputs": [],
   "source": [
    "from pyspark.ml.feature import RegexTokenizer, StopWordsRemover, CountVectorizer, Tokenizer"
   ]
  },
  {
   "cell_type": "code",
   "execution_count": 18,
   "metadata": {},
   "outputs": [],
   "source": [
    "filtered_df = df.filter((df.target == 1) | (df.target == 0))"
   ]
  },
  {
   "cell_type": "code",
   "execution_count": 19,
   "metadata": {},
   "outputs": [],
   "source": [
    "filtered_df = filtered_df.select('question_text','target')"
   ]
  },
  {
   "cell_type": "code",
   "execution_count": 22,
   "metadata": {},
   "outputs": [
    {
     "name": "stdout",
     "output_type": "stream",
     "text": [
      "+--------------------+------+\n",
      "|       question_text|target|\n",
      "+--------------------+------+\n",
      "|How did Quebec na...|     0|\n",
      "|Do you have an ad...|     0|\n",
      "|Why does velocity...|     0|\n",
      "|How did Otto von ...|     0|\n",
      "|Can I convert mon...|     0|\n",
      "|Is Gaza slowly be...|     0|\n",
      "|Why does Quora au...|     0|\n",
      "|Is it crazy if I ...|     0|\n",
      "|Is there such a t...|     0|\n",
      "|Is it just me or ...|     0|\n",
      "|What can you say ...|     0|\n",
      "|How were the Calg...|     0|\n",
      "|What is the dumbe...|     0|\n",
      "|Can we use our ex...|     0|\n",
      "|I am 30, living a...|     0|\n",
      "|What do you know ...|     0|\n",
      "|How difficult is ...|     0|\n",
      "|Have you licked t...|     0|\n",
      "|Do you think Amaz...|     0|\n",
      "|How many baronies...|     0|\n",
      "+--------------------+------+\n",
      "only showing top 20 rows\n",
      "\n"
     ]
    }
   ],
   "source": [
    "filtered_df.show()"
   ]
  },
  {
   "cell_type": "code",
   "execution_count": 23,
   "metadata": {},
   "outputs": [],
   "source": [
    "from pyspark.ml.feature import Word2Vec\n",
    "from pyspark.ml import Pipeline\n",
    "from pyspark.ml.feature import Tokenizer\n",
    "\n",
    "stopwordsRemover = StopWordsRemover(inputCol=\"tokens\", outputCol=\"filtered_tokens\")\n",
    "tokenizer = Tokenizer(inputCol=\"question_text\", outputCol=\"tokens\")\n",
    "w2v = Word2Vec(vectorSize=100, minCount=0, inputCol=\"filtered_tokens\", outputCol=\"features\")\n",
    "doc2vec_pipeline = Pipeline(stages=[tokenizer,stopwordsRemover,w2v])\n",
    "doc2vec_model = doc2vec_pipeline.fit(filtered_df)\n",
    "doc2vecs_df = doc2vec_model.transform(filtered_df)"
   ]
  },
  {
   "cell_type": "code",
   "execution_count": 24,
   "metadata": {},
   "outputs": [
    {
     "name": "stdout",
     "output_type": "stream",
     "text": [
      "+--------------------+------+--------------------+--------------------+--------------------+\n",
      "|       question_text|target|              tokens|     filtered_tokens|            features|\n",
      "+--------------------+------+--------------------+--------------------+--------------------+\n",
      "|How did Quebec na...|     0|[how, did, quebec...|[quebec, national...|[-0.0455056603532...|\n",
      "|Do you have an ad...|     0|[do, you, have, a...|[adopted, dog,, e...|[0.00572819014390...|\n",
      "|Why does velocity...|     0|[why, does, veloc...|[velocity, affect...|[-0.0184132257210...|\n",
      "|How did Otto von ...|     0|[how, did, otto, ...|[otto, von, gueri...|[0.05853901430964...|\n",
      "|Can I convert mon...|     0|[can, i, convert,...|[convert, montra,...|[-0.0443321327074...|\n",
      "|Is Gaza slowly be...|     0|[is, gaza, slowly...|[gaza, slowly, be...|[0.02233039102117...|\n",
      "|Why does Quora au...|     0|[why, does, quora...|[quora, automatic...|[0.06008154375012...|\n",
      "|Is it crazy if I ...|     0|[is, it, crazy, i...|[crazy, wash, wip...|[-0.0993717640771...|\n",
      "|Is there such a t...|     0|[is, there, such,...|[thing, dressing,...|[-0.1174296798167...|\n",
      "|Is it just me or ...|     0|[is, it, just, me...|[ever, phase, whe...|[-0.0840399394602...|\n",
      "|What can you say ...|     0|[what, can, you, ...|    [say, feminism?]|[-0.0587273873388...|\n",
      "|How were the Calg...|     0|[how, were, the, ...|[calgary, flames,...|[-0.1185197507341...|\n",
      "|What is the dumbe...|     0|[what, is, the, d...|[dumbest,, yet, p...|[0.06923165804307...|\n",
      "|Can we use our ex...|     0|[can, we, use, ou...|[use, external, h...|[0.20817792583256...|\n",
      "|I am 30, living a...|     0|[i, am, 30,, livi...|[30,, living, hom...|[-0.0032720795522...|\n",
      "|What do you know ...|     0|[what, do, you, k...|[know, bram, fisc...|[0.01947624003514...|\n",
      "|How difficult is ...|     0|[how, difficult, ...|[difficult, find,...|[-0.0646809099707...|\n",
      "|Have you licked t...|     0|[have, you, licke...|[licked, skin, co...|[-0.0937630304445...|\n",
      "|Do you think Amaz...|     0|[do, you, think, ...|[think, amazon, a...|[0.09639479499310...|\n",
      "|How many baronies...|     0|[how, many, baron...|[many, baronies, ...|[-0.0561953341987...|\n",
      "+--------------------+------+--------------------+--------------------+--------------------+\n",
      "only showing top 20 rows\n",
      "\n"
     ]
    }
   ],
   "source": [
    "doc2vecs_df.show()"
   ]
  },
  {
   "cell_type": "code",
   "execution_count": 25,
   "metadata": {},
   "outputs": [],
   "source": [
    "w2v_train_df, w2v_test_df = doc2vecs_df.randomSplit([0.8, 0.2])"
   ]
  },
  {
   "cell_type": "code",
   "execution_count": 26,
   "metadata": {},
   "outputs": [],
   "source": [
    "from pyspark.ml.feature import StringIndexer\n",
    "from pyspark.ml.classification import RandomForestClassifier\n",
    "from pyspark.ml.evaluation import BinaryClassificationEvaluator\n",
    "from pyspark.ml.classification import LogisticRegression"
   ]
  },
  {
   "cell_type": "code",
   "execution_count": 28,
   "metadata": {},
   "outputs": [],
   "source": [
    "si = StringIndexer(inputCol=\"target\", outputCol=\"label\")\n",
    "lr_classifier = LogisticRegression(family=\"binomial\")\n",
    "\n",
    "lr_classifier_pipeline = Pipeline(stages=[si,lr_classifier])\n",
    "lr_predictions = lr_classifier_pipeline.fit(w2v_train_df).transform(w2v_test_df)"
   ]
  },
  {
   "cell_type": "code",
   "execution_count": 30,
   "metadata": {},
   "outputs": [],
   "source": [
    "lr_model_evaluator = BinaryClassificationEvaluator(\n",
    "    labelCol=\"label\", rawPredictionCol=\"prediction\", metricName=\"areaUnderROC\")"
   ]
  },
  {
   "cell_type": "code",
   "execution_count": 31,
   "metadata": {},
   "outputs": [
    {
     "name": "stdout",
     "output_type": "stream",
     "text": [
      "Accuracy = 0.598611\n"
     ]
    }
   ],
   "source": [
    "accuracy = lr_model_evaluator.evaluate(lr_predictions)\n",
    "print(\"Accuracy = %g\" % (accuracy))"
   ]
  },
  {
   "cell_type": "code",
   "execution_count": null,
   "metadata": {},
   "outputs": [],
   "source": []
  }
 ],
 "metadata": {
  "kernelspec": {
   "display_name": "Python 3",
   "language": "python",
   "name": "python3"
  },
  "language_info": {
   "codemirror_mode": {
    "name": "ipython",
    "version": 3
   },
   "file_extension": ".py",
   "mimetype": "text/x-python",
   "name": "python",
   "nbconvert_exporter": "python",
   "pygments_lexer": "ipython3",
   "version": "3.6.11"
  }
 },
 "nbformat": 4,
 "nbformat_minor": 2
}
